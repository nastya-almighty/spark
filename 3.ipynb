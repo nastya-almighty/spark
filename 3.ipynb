{
 "cells": [
  {
   "cell_type": "code",
   "execution_count": 53,
   "id": "7154051c-1760-400e-92c5-8821766f42c9",
   "metadata": {},
   "outputs": [],
   "source": [
    "from pyspark.sql import SparkSession\n",
    "\n",
    "spark = SparkSession.builder\\\n",
    "        .master('local[4]')\\\n",
    "        .appName('Lesson_2')\\\n",
    "        .config('spark.ui.port', '4050')\\\n",
    "        .config('spark.executor.instances', 2)\\\n",
    "        .config('spark.executor.memory', '5g')\\\n",
    "        .config('spark.executor.cores', 2)\\\n",
    "        .getOrCreate()\n",
    "\n",
    "sc = spark.sparkContext"
   ]
  },
  {
   "cell_type": "code",
   "execution_count": 70,
   "id": "6c897949-5b51-4efa-bd55-31aab7305338",
   "metadata": {},
   "outputs": [
    {
     "data": {
      "text/html": [
       "\n",
       "            <div>\n",
       "                <p><b>SparkSession - in-memory</b></p>\n",
       "                \n",
       "        <div>\n",
       "            <p><b>SparkContext</b></p>\n",
       "\n",
       "            <p><a href=\"http://6e2434072fa0:4050\">Spark UI</a></p>\n",
       "\n",
       "            <dl>\n",
       "              <dt>Version</dt>\n",
       "                <dd><code>v3.5.0</code></dd>\n",
       "              <dt>Master</dt>\n",
       "                <dd><code>local[4]</code></dd>\n",
       "              <dt>AppName</dt>\n",
       "                <dd><code>Lesson_2</code></dd>\n",
       "            </dl>\n",
       "        </div>\n",
       "        \n",
       "            </div>\n",
       "        "
      ],
      "text/plain": [
       "<pyspark.sql.session.SparkSession at 0x7f735ecedc50>"
      ]
     },
     "execution_count": 70,
     "metadata": {},
     "output_type": "execute_result"
    }
   ],
   "source": [
    "spark"
   ]
  },
  {
   "cell_type": "code",
   "execution_count": 71,
   "id": "7a8537c8-a9a2-43c5-822d-e1e2d269049f",
   "metadata": {},
   "outputs": [],
   "source": [
    "df_train = spark.read.csv(\"train.csv\", header=True, inferSchema=True)\n",
    "df_test = spark.read.csv(\"test.csv\", header=True, inferSchema=True)"
   ]
  },
  {
   "cell_type": "code",
   "execution_count": 72,
   "id": "b5478c44-60ba-4647-8541-9abe9261c6bb",
   "metadata": {},
   "outputs": [
    {
     "name": "stdout",
     "output_type": "stream",
     "text": [
      "root\n",
      " |-- battery_power: integer (nullable = true)\n",
      " |-- blue: integer (nullable = true)\n",
      " |-- clock_speed: double (nullable = true)\n",
      " |-- dual_sim: integer (nullable = true)\n",
      " |-- fc: integer (nullable = true)\n",
      " |-- four_g: integer (nullable = true)\n",
      " |-- int_memory: integer (nullable = true)\n",
      " |-- m_dep: double (nullable = true)\n",
      " |-- mobile_wt: integer (nullable = true)\n",
      " |-- n_cores: integer (nullable = true)\n",
      " |-- pc: integer (nullable = true)\n",
      " |-- px_height: integer (nullable = true)\n",
      " |-- px_width: integer (nullable = true)\n",
      " |-- ram: integer (nullable = true)\n",
      " |-- sc_h: integer (nullable = true)\n",
      " |-- sc_w: integer (nullable = true)\n",
      " |-- talk_time: integer (nullable = true)\n",
      " |-- three_g: integer (nullable = true)\n",
      " |-- touch_screen: integer (nullable = true)\n",
      " |-- wifi: integer (nullable = true)\n",
      " |-- price_range: integer (nullable = true)\n",
      "\n",
      "root\n",
      " |-- id: integer (nullable = true)\n",
      " |-- battery_power: integer (nullable = true)\n",
      " |-- blue: integer (nullable = true)\n",
      " |-- clock_speed: double (nullable = true)\n",
      " |-- dual_sim: integer (nullable = true)\n",
      " |-- fc: integer (nullable = true)\n",
      " |-- four_g: integer (nullable = true)\n",
      " |-- int_memory: integer (nullable = true)\n",
      " |-- m_dep: double (nullable = true)\n",
      " |-- mobile_wt: integer (nullable = true)\n",
      " |-- n_cores: integer (nullable = true)\n",
      " |-- pc: integer (nullable = true)\n",
      " |-- px_height: integer (nullable = true)\n",
      " |-- px_width: integer (nullable = true)\n",
      " |-- ram: integer (nullable = true)\n",
      " |-- sc_h: integer (nullable = true)\n",
      " |-- sc_w: integer (nullable = true)\n",
      " |-- talk_time: integer (nullable = true)\n",
      " |-- three_g: integer (nullable = true)\n",
      " |-- touch_screen: integer (nullable = true)\n",
      " |-- wifi: integer (nullable = true)\n",
      "\n"
     ]
    }
   ],
   "source": [
    "df_train.printSchema()\n",
    "df_test.printSchema()"
   ]
  },
  {
   "cell_type": "code",
   "execution_count": 73,
   "id": "8bcb52a5-6db5-418c-a0dd-fa0376551342",
   "metadata": {},
   "outputs": [
    {
     "data": {
      "text/plain": [
       "[Row(battery_power=842, blue=0, clock_speed=2.2, dual_sim=0, fc=1, four_g=0, int_memory=7, m_dep=0.6, mobile_wt=188, n_cores=2, pc=2, px_height=20, px_width=756, ram=2549, sc_h=9, sc_w=7, talk_time=19, three_g=0, touch_screen=0, wifi=1, price_range=1),\n",
       " Row(battery_power=1021, blue=1, clock_speed=0.5, dual_sim=1, fc=0, four_g=1, int_memory=53, m_dep=0.7, mobile_wt=136, n_cores=3, pc=6, px_height=905, px_width=1988, ram=2631, sc_h=17, sc_w=3, talk_time=7, three_g=1, touch_screen=1, wifi=0, price_range=2),\n",
       " Row(battery_power=563, blue=1, clock_speed=0.5, dual_sim=1, fc=2, four_g=1, int_memory=41, m_dep=0.9, mobile_wt=145, n_cores=5, pc=6, px_height=1263, px_width=1716, ram=2603, sc_h=11, sc_w=2, talk_time=9, three_g=1, touch_screen=1, wifi=0, price_range=2),\n",
       " Row(battery_power=615, blue=1, clock_speed=2.5, dual_sim=0, fc=0, four_g=0, int_memory=10, m_dep=0.8, mobile_wt=131, n_cores=6, pc=9, px_height=1216, px_width=1786, ram=2769, sc_h=16, sc_w=8, talk_time=11, three_g=1, touch_screen=0, wifi=0, price_range=2),\n",
       " Row(battery_power=1821, blue=1, clock_speed=1.2, dual_sim=0, fc=13, four_g=1, int_memory=44, m_dep=0.6, mobile_wt=141, n_cores=2, pc=14, px_height=1208, px_width=1212, ram=1411, sc_h=8, sc_w=2, talk_time=15, three_g=1, touch_screen=1, wifi=0, price_range=1)]"
      ]
     },
     "execution_count": 73,
     "metadata": {},
     "output_type": "execute_result"
    }
   ],
   "source": [
    "df_train.take(5)"
   ]
  },
  {
   "cell_type": "code",
   "execution_count": 77,
   "id": "dcfd6bb5-b052-4ea5-9726-2937c0f35835",
   "metadata": {},
   "outputs": [
    {
     "data": {
      "text/plain": [
       "[Row(battery_power=842, blue=0, clock_speed=2.2, dual_sim=0, fc=1, four_g=0, int_memory=7, m_dep=0.6, mobile_wt=188, n_cores=2, pc=2, px_height=20, px_width=756, ram=2549, sc_h=9, sc_w=7, talk_time=19, three_g=0, touch_screen=0, wifi=1, price_range=1),\n",
       " Row(battery_power=1021, blue=1, clock_speed=0.5, dual_sim=1, fc=0, four_g=1, int_memory=53, m_dep=0.7, mobile_wt=136, n_cores=3, pc=6, px_height=905, px_width=1988, ram=2631, sc_h=17, sc_w=3, talk_time=7, three_g=1, touch_screen=1, wifi=0, price_range=2),\n",
       " Row(battery_power=563, blue=1, clock_speed=0.5, dual_sim=1, fc=2, four_g=1, int_memory=41, m_dep=0.9, mobile_wt=145, n_cores=5, pc=6, px_height=1263, px_width=1716, ram=2603, sc_h=11, sc_w=2, talk_time=9, three_g=1, touch_screen=1, wifi=0, price_range=2),\n",
       " Row(battery_power=615, blue=1, clock_speed=2.5, dual_sim=0, fc=0, four_g=0, int_memory=10, m_dep=0.8, mobile_wt=131, n_cores=6, pc=9, px_height=1216, px_width=1786, ram=2769, sc_h=16, sc_w=8, talk_time=11, three_g=1, touch_screen=0, wifi=0, price_range=2),\n",
       " Row(battery_power=1821, blue=1, clock_speed=1.2, dual_sim=0, fc=13, four_g=1, int_memory=44, m_dep=0.6, mobile_wt=141, n_cores=2, pc=14, px_height=1208, px_width=1212, ram=1411, sc_h=8, sc_w=2, talk_time=15, three_g=1, touch_screen=1, wifi=0, price_range=1)]"
      ]
     },
     "execution_count": 77,
     "metadata": {},
     "output_type": "execute_result"
    }
   ],
   "source": [
    "df_train.take(5)"
   ]
  },
  {
   "cell_type": "code",
   "execution_count": 75,
   "id": "d2b94f82-8562-46b2-b7b0-4e0d4df56184",
   "metadata": {},
   "outputs": [
    {
     "name": "stdout",
     "output_type": "stream",
     "text": [
      "Есть различия между df_train и df_test по признаку battery_power\n"
     ]
    }
   ],
   "source": [
    "set_train = set(df_train.select('battery_power').collect())\n",
    "set_test = set(df_test.select('battery_power').collect())\n",
    "\n",
    "difference = set_train - set_test\n",
    "\n",
    "if len(difference) == 0:\n",
    "    print(\"Данные в df_train и df_test идентичны по признаку battery_power\")\n",
    "else:\n",
    "    print(\"Есть различия между df_train и df_test по признаку battery_power\")"
   ]
  },
  {
   "cell_type": "code",
   "execution_count": 76,
   "id": "5d962c36-5658-4109-808a-249d5d170cdb",
   "metadata": {},
   "outputs": [
    {
     "data": {
      "text/plain": [
       "[Row(id=1, battery_power=1043, blue=1, clock_speed=1.8, dual_sim=1, fc=14, four_g=0, int_memory=5, m_dep=0.1, mobile_wt=193, n_cores=3, pc=16, px_height=226, px_width=1412, ram=3476, sc_h=12, sc_w=7, talk_time=2, three_g=0, touch_screen=1, wifi=0),\n",
       " Row(id=2, battery_power=841, blue=1, clock_speed=0.5, dual_sim=1, fc=4, four_g=1, int_memory=61, m_dep=0.8, mobile_wt=191, n_cores=5, pc=12, px_height=746, px_width=857, ram=3895, sc_h=6, sc_w=0, talk_time=7, three_g=1, touch_screen=0, wifi=0),\n",
       " Row(id=3, battery_power=1807, blue=1, clock_speed=2.8, dual_sim=0, fc=1, four_g=0, int_memory=27, m_dep=0.9, mobile_wt=186, n_cores=3, pc=4, px_height=1270, px_width=1366, ram=2396, sc_h=17, sc_w=10, talk_time=10, three_g=0, touch_screen=1, wifi=1),\n",
       " Row(id=4, battery_power=1546, blue=0, clock_speed=0.5, dual_sim=1, fc=18, four_g=1, int_memory=25, m_dep=0.5, mobile_wt=96, n_cores=8, pc=20, px_height=295, px_width=1752, ram=3893, sc_h=10, sc_w=0, talk_time=7, three_g=1, touch_screen=1, wifi=0),\n",
       " Row(id=5, battery_power=1434, blue=0, clock_speed=1.4, dual_sim=0, fc=11, four_g=1, int_memory=49, m_dep=0.5, mobile_wt=108, n_cores=6, pc=18, px_height=749, px_width=810, ram=1773, sc_h=15, sc_w=8, talk_time=7, three_g=1, touch_screen=0, wifi=1)]"
      ]
     },
     "execution_count": 76,
     "metadata": {},
     "output_type": "execute_result"
    }
   ],
   "source": [
    "df_test.take(5)"
   ]
  },
  {
   "cell_type": "code",
   "execution_count": 78,
   "id": "0b773fa7-b0a2-4673-b6d6-26d54bc93692",
   "metadata": {},
   "outputs": [],
   "source": [
    "data = df_train.union(df_test)"
   ]
  },
  {
   "cell_type": "code",
   "execution_count": 79,
   "id": "0858fdc7-dbbd-4f0c-8f16-085eb5b46923",
   "metadata": {},
   "outputs": [
    {
     "data": {
      "text/plain": [
       "[Row(battery_power=842, blue=0, clock_speed=2.2, dual_sim=0.0, fc=1, four_g=0, int_memory=7, m_dep=0.6, mobile_wt=188.0, n_cores=2, pc=2, px_height=20, px_width=756, ram=2549, sc_h=9, sc_w=7, talk_time=19, three_g=0, touch_screen=0, wifi=1, price_range=1),\n",
       " Row(battery_power=1021, blue=1, clock_speed=0.5, dual_sim=1.0, fc=0, four_g=1, int_memory=53, m_dep=0.7, mobile_wt=136.0, n_cores=3, pc=6, px_height=905, px_width=1988, ram=2631, sc_h=17, sc_w=3, talk_time=7, three_g=1, touch_screen=1, wifi=0, price_range=2),\n",
       " Row(battery_power=563, blue=1, clock_speed=0.5, dual_sim=1.0, fc=2, four_g=1, int_memory=41, m_dep=0.9, mobile_wt=145.0, n_cores=5, pc=6, px_height=1263, px_width=1716, ram=2603, sc_h=11, sc_w=2, talk_time=9, three_g=1, touch_screen=1, wifi=0, price_range=2),\n",
       " Row(battery_power=615, blue=1, clock_speed=2.5, dual_sim=0.0, fc=0, four_g=0, int_memory=10, m_dep=0.8, mobile_wt=131.0, n_cores=6, pc=9, px_height=1216, px_width=1786, ram=2769, sc_h=16, sc_w=8, talk_time=11, three_g=1, touch_screen=0, wifi=0, price_range=2),\n",
       " Row(battery_power=1821, blue=1, clock_speed=1.2, dual_sim=0.0, fc=13, four_g=1, int_memory=44, m_dep=0.6, mobile_wt=141.0, n_cores=2, pc=14, px_height=1208, px_width=1212, ram=1411, sc_h=8, sc_w=2, talk_time=15, three_g=1, touch_screen=1, wifi=0, price_range=1)]"
      ]
     },
     "execution_count": 79,
     "metadata": {},
     "output_type": "execute_result"
    }
   ],
   "source": [
    "data.take(5)"
   ]
  },
  {
   "cell_type": "code",
   "execution_count": 80,
   "id": "22dcc57b-1606-44f7-9bef-ed70d38eb4fd",
   "metadata": {},
   "outputs": [],
   "source": [
    "data2 = data.select(\"px_height\", \"px_width\", \"sc_h\", \"sc_w\", 'n_cores', 'int_memory')"
   ]
  },
  {
   "cell_type": "code",
   "execution_count": 81,
   "id": "a7e034bf-927e-4226-beb0-277539f19141",
   "metadata": {},
   "outputs": [
    {
     "data": {
      "text/plain": [
       "[Row(px_height=20, px_width=756, sc_h=9, sc_w=7, n_cores=2, int_memory=7),\n",
       " Row(px_height=905, px_width=1988, sc_h=17, sc_w=3, n_cores=3, int_memory=53),\n",
       " Row(px_height=1263, px_width=1716, sc_h=11, sc_w=2, n_cores=5, int_memory=41),\n",
       " Row(px_height=1216, px_width=1786, sc_h=16, sc_w=8, n_cores=6, int_memory=10),\n",
       " Row(px_height=1208, px_width=1212, sc_h=8, sc_w=2, n_cores=2, int_memory=44)]"
      ]
     },
     "execution_count": 81,
     "metadata": {},
     "output_type": "execute_result"
    }
   ],
   "source": [
    "data2.take(5)"
   ]
  },
  {
   "cell_type": "code",
   "execution_count": 82,
   "id": "90c834b4-0fcf-4bc9-b562-a02fcc8bc070",
   "metadata": {},
   "outputs": [],
   "source": [
    "from pyspark.sql import functions as F\n",
    "\n",
    "data2 = data2.withColumn(\"diagonal_inch\", (F.sqrt(F.pow(F.col(\"sc_h\") / 2.54, 2) + F.pow(F.col(\"sc_w\") / 2.54, 2))))"
   ]
  },
  {
   "cell_type": "code",
   "execution_count": 83,
   "id": "6c2abc15-f9ac-430c-b348-6780cf3bdf40",
   "metadata": {},
   "outputs": [
    {
     "data": {
      "text/plain": [
       "[Row(px_height=20, px_width=756, sc_h=9, sc_w=7, n_cores=2, int_memory=7, diagonal_inch=4.488879626374559),\n",
       " Row(px_height=905, px_width=1988, sc_h=17, sc_w=3, n_cores=3, int_memory=53, diagonal_inch=6.796329331351208),\n",
       " Row(px_height=1263, px_width=1716, sc_h=11, sc_w=2, n_cores=5, int_memory=41, diagonal_inch=4.40170861712557),\n",
       " Row(px_height=1216, px_width=1786, sc_h=16, sc_w=8, n_cores=6, int_memory=10, diagonal_inch=7.042733787400912),\n",
       " Row(px_height=1208, px_width=1212, sc_h=8, sc_w=2, n_cores=2, int_memory=44, diagonal_inch=3.2465398626910713)]"
      ]
     },
     "execution_count": 83,
     "metadata": {},
     "output_type": "execute_result"
    }
   ],
   "source": [
    "data2.take(5)"
   ]
  },
  {
   "cell_type": "code",
   "execution_count": 84,
   "id": "10a894fc-b3c8-4e4f-80cc-54507c0eeee8",
   "metadata": {},
   "outputs": [
    {
     "data": {
      "text/plain": [
       "[Row(px_height=20, px_width=756, sc_h=9, sc_w=7, n_cores=2, int_memory=7, diagonal_inch=4.488879626374559, PPI=168.47511337788828),\n",
       " Row(px_height=905, px_width=1988, sc_h=17, sc_w=3, n_cores=3, int_memory=53, diagonal_inch=6.796329331351208, PPI=321.3941626516841),\n",
       " Row(px_height=1263, px_width=1716, sc_h=11, sc_w=2, n_cores=5, int_memory=41, diagonal_inch=4.40170861712557, PPI=484.05896310263694),\n",
       " Row(px_height=1216, px_width=1786, sc_h=16, sc_w=8, n_cores=6, int_memory=10, diagonal_inch=7.042733787400912, PPI=306.79280937629557),\n",
       " Row(px_height=1208, px_width=1212, sc_h=8, sc_w=2, n_cores=2, int_memory=44, diagonal_inch=3.2465398626910713, PPI=527.0844715870837)]"
      ]
     },
     "execution_count": 84,
     "metadata": {},
     "output_type": "execute_result"
    }
   ],
   "source": [
    "from pyspark.sql.functions import col, sqrt\n",
    "\n",
    "data2 = data2.withColumn(\"PPI\", (sqrt(col(\"px_height\") ** 2 + col(\"px_width\") ** 2) / col(\"diagonal_inch\")))\n",
    "data2.take(5)"
   ]
  },
  {
   "cell_type": "code",
   "execution_count": 85,
   "id": "84ce9003-bdd0-40ae-8ac6-0adc0a7e13b7",
   "metadata": {},
   "outputs": [
    {
     "name": "stdout",
     "output_type": "stream",
     "text": [
      "Широкоформатных: 2032\n",
      "Неширокоформатных: 926\n"
     ]
    }
   ],
   "source": [
    "widescreen_count = data2.filter((col(\"px_width\") / col(\"px_height\")) >= 16 / 9).count()\n",
    "non_widescreen_count = data2.filter((col(\"px_width\") / col(\"px_height\")) < 16 / 9).count()\n",
    "\n",
    "print(f\"Широкоформатных: {widescreen_count}\")\n",
    "print(f\"Неширокоформатных: {non_widescreen_count}\")"
   ]
  },
  {
   "cell_type": "markdown",
   "id": "89f1ba6b-4766-425c-ad3e-5f4a8c24579e",
   "metadata": {},
   "source": [
    "Так как мы выяснили, что train и test датафреймы не совпадают, у нас не было возможности оставить айдишники из test (ну или я чего-то не догоняю). \n",
    "Поэтому мы сейчас пришпандорим айдишники просто так :)"
   ]
  },
  {
   "cell_type": "code",
   "execution_count": 86,
   "id": "6abf4091-4fb3-4e18-9077-0ad0a9e6db81",
   "metadata": {},
   "outputs": [],
   "source": [
    "from pyspark.sql.functions import monotonically_increasing_id\n",
    "\n",
    "data2 = data2.withColumn(\"id\", monotonically_increasing_id())"
   ]
  },
  {
   "cell_type": "code",
   "execution_count": 94,
   "id": "e0f8ea35-1b84-4fac-be62-34f1c3fa076f",
   "metadata": {},
   "outputs": [],
   "source": [
    "data2.write.csv(\"output_file.csv\", sep=';', encoding='cp1251', mode='overwrite', header=True)"
   ]
  },
  {
   "cell_type": "code",
   "execution_count": null,
   "id": "3214f2df-b8fb-4bda-ae96-e4ac0e954821",
   "metadata": {},
   "outputs": [],
   "source": []
  }
 ],
 "metadata": {
  "kernelspec": {
   "display_name": "Python 3 (ipykernel)",
   "language": "python",
   "name": "python3"
  },
  "language_info": {
   "codemirror_mode": {
    "name": "ipython",
    "version": 3
   },
   "file_extension": ".py",
   "mimetype": "text/x-python",
   "name": "python",
   "nbconvert_exporter": "python",
   "pygments_lexer": "ipython3",
   "version": "3.11.6"
  }
 },
 "nbformat": 4,
 "nbformat_minor": 5
}
