{
 "cells": [
  {
   "cell_type": "code",
   "execution_count": 1,
   "id": "934abf7e-9192-4d45-9d76-62b8857d391c",
   "metadata": {},
   "outputs": [],
   "source": [
    "# Создаём спарк контекст\n",
    "from pyspark.sql import SparkSession\n",
    "\n",
    "spark = SparkSession.builder\\\n",
    "        .master('local[4]')\\\n",
    "        .appName('Lesson_2')\\\n",
    "        .config('spark.ui.port', '4050')\\\n",
    "        .config('spark.executor.instances', 2)\\\n",
    "        .config('spark.executor.memory', '5g')\\\n",
    "        .config('spark.executor.cores', 2)\\\n",
    "        .getOrCreate()\n",
    "\n",
    "sc = spark.sparkContext"
   ]
  },
  {
   "cell_type": "code",
   "execution_count": 2,
   "id": "194c6b9c-f340-4192-848f-fb091e8e87ac",
   "metadata": {},
   "outputs": [
    {
     "data": {
      "text/html": [
       "\n",
       "            <div>\n",
       "                <p><b>SparkSession - in-memory</b></p>\n",
       "                \n",
       "        <div>\n",
       "            <p><b>SparkContext</b></p>\n",
       "\n",
       "            <p><a href=\"http://1bfc6d481f28:4050\">Spark UI</a></p>\n",
       "\n",
       "            <dl>\n",
       "              <dt>Version</dt>\n",
       "                <dd><code>v3.5.0</code></dd>\n",
       "              <dt>Master</dt>\n",
       "                <dd><code>local[4]</code></dd>\n",
       "              <dt>AppName</dt>\n",
       "                <dd><code>Lesson_2</code></dd>\n",
       "            </dl>\n",
       "        </div>\n",
       "        \n",
       "            </div>\n",
       "        "
      ],
      "text/plain": [
       "<pyspark.sql.session.SparkSession at 0x7fd4c9998a90>"
      ]
     },
     "execution_count": 2,
     "metadata": {},
     "output_type": "execute_result"
    }
   ],
   "source": [
    "spark"
   ]
  },
  {
   "cell_type": "code",
   "execution_count": 3,
   "id": "8bf7566d-085c-422e-a916-4d0bfdcd1ca5",
   "metadata": {},
   "outputs": [],
   "source": [
    "train = sc.textFile('test.csv')\n",
    "test = sc.textFile('test.csv')"
   ]
  },
  {
   "cell_type": "code",
   "execution_count": 4,
   "id": "20795f0a-37a4-44eb-a6f1-a1f0e4bf4918",
   "metadata": {},
   "outputs": [],
   "source": [
    "train_first_row = train.first()\n",
    "\n",
    "train = train\\\n",
    "    .filter(lambda row: row != train_first_row)\\\n",
    "    .map(lambda row: [float(el) for el in row.split(',')])"
   ]
  },
  {
   "cell_type": "code",
   "execution_count": 5,
   "id": "28238686-99dd-4cbf-b05c-659111d5888a",
   "metadata": {},
   "outputs": [
    {
     "data": {
      "text/plain": [
       "'id,battery_power,blue,clock_speed,dual_sim,fc,four_g,int_memory,m_dep,mobile_wt,n_cores,pc,px_height,px_width,ram,sc_h,sc_w,talk_time,three_g,touch_screen,wifi'"
      ]
     },
     "execution_count": 5,
     "metadata": {},
     "output_type": "execute_result"
    }
   ],
   "source": [
    "train_first_row"
   ]
  },
  {
   "cell_type": "code",
   "execution_count": 8,
   "id": "50be1d29-2cc0-473c-af3a-0e297f796245",
   "metadata": {},
   "outputs": [],
   "source": [
    "test_first_row = test.first()\n",
    "\n",
    "test = test\\\n",
    "    .filter(lambda row: row != test_first_row)\\\n",
    "    .map(lambda row: [float(el) for el in row.split(',')])"
   ]
  },
  {
   "cell_type": "code",
   "execution_count": 9,
   "id": "9b05b2f9-2f9b-490c-9dd2-2c12c490e4c3",
   "metadata": {},
   "outputs": [
    {
     "data": {
      "text/plain": [
       "'id,battery_power,blue,clock_speed,dual_sim,fc,four_g,int_memory,m_dep,mobile_wt,n_cores,pc,px_height,px_width,ram,sc_h,sc_w,talk_time,three_g,touch_screen,wifi'"
      ]
     },
     "execution_count": 9,
     "metadata": {},
     "output_type": "execute_result"
    }
   ],
   "source": [
    "test_first_row"
   ]
  },
  {
   "cell_type": "code",
   "execution_count": 14,
   "id": "52057f88-8a50-434d-bd2a-6da0388e6f88",
   "metadata": {},
   "outputs": [],
   "source": [
    "combined = train.union(test)"
   ]
  },
  {
   "cell_type": "code",
   "execution_count": 15,
   "id": "e110d515-4936-463d-846e-1c7e8f6b3eeb",
   "metadata": {},
   "outputs": [
    {
     "data": {
      "text/plain": [
       "[[1.0,\n",
       "  1043.0,\n",
       "  1.0,\n",
       "  1.8,\n",
       "  1.0,\n",
       "  14.0,\n",
       "  0.0,\n",
       "  5.0,\n",
       "  0.1,\n",
       "  193.0,\n",
       "  3.0,\n",
       "  16.0,\n",
       "  226.0,\n",
       "  1412.0,\n",
       "  3476.0,\n",
       "  12.0,\n",
       "  7.0,\n",
       "  2.0,\n",
       "  0.0,\n",
       "  1.0,\n",
       "  0.0],\n",
       " [2.0,\n",
       "  841.0,\n",
       "  1.0,\n",
       "  0.5,\n",
       "  1.0,\n",
       "  4.0,\n",
       "  1.0,\n",
       "  61.0,\n",
       "  0.8,\n",
       "  191.0,\n",
       "  5.0,\n",
       "  12.0,\n",
       "  746.0,\n",
       "  857.0,\n",
       "  3895.0,\n",
       "  6.0,\n",
       "  0.0,\n",
       "  7.0,\n",
       "  1.0,\n",
       "  0.0,\n",
       "  0.0],\n",
       " [3.0,\n",
       "  1807.0,\n",
       "  1.0,\n",
       "  2.8,\n",
       "  0.0,\n",
       "  1.0,\n",
       "  0.0,\n",
       "  27.0,\n",
       "  0.9,\n",
       "  186.0,\n",
       "  3.0,\n",
       "  4.0,\n",
       "  1270.0,\n",
       "  1366.0,\n",
       "  2396.0,\n",
       "  17.0,\n",
       "  10.0,\n",
       "  10.0,\n",
       "  0.0,\n",
       "  1.0,\n",
       "  1.0],\n",
       " [4.0,\n",
       "  1546.0,\n",
       "  0.0,\n",
       "  0.5,\n",
       "  1.0,\n",
       "  18.0,\n",
       "  1.0,\n",
       "  25.0,\n",
       "  0.5,\n",
       "  96.0,\n",
       "  8.0,\n",
       "  20.0,\n",
       "  295.0,\n",
       "  1752.0,\n",
       "  3893.0,\n",
       "  10.0,\n",
       "  0.0,\n",
       "  7.0,\n",
       "  1.0,\n",
       "  1.0,\n",
       "  0.0],\n",
       " [5.0,\n",
       "  1434.0,\n",
       "  0.0,\n",
       "  1.4,\n",
       "  0.0,\n",
       "  11.0,\n",
       "  1.0,\n",
       "  49.0,\n",
       "  0.5,\n",
       "  108.0,\n",
       "  6.0,\n",
       "  18.0,\n",
       "  749.0,\n",
       "  810.0,\n",
       "  1773.0,\n",
       "  15.0,\n",
       "  8.0,\n",
       "  7.0,\n",
       "  1.0,\n",
       "  0.0,\n",
       "  1.0]]"
      ]
     },
     "execution_count": 15,
     "metadata": {},
     "output_type": "execute_result"
    }
   ],
   "source": [
    "combined.take(5)"
   ]
  },
  {
   "cell_type": "code",
   "execution_count": 17,
   "id": "9d0c70d9-78d7-482a-b8cc-576bdff79e42",
   "metadata": {},
   "outputs": [
    {
     "name": "stdout",
     "output_type": "stream",
     "text": [
      "Отсортированное распределение:\n",
      "Экран не широкоформатный: 1016\n",
      "Экран широкоформатный: 984\n"
     ]
    }
   ],
   "source": [
    "def ratio(row):\n",
    "    px_width, px_height = row[14], row[13]\n",
    "    return px_width / px_height\n",
    "\n",
    "aspect_ratio = combined.map(lambda row: row + [ratio(row)])\n",
    "\n",
    "wide_screen = aspect_ratio.map(lambda row: row + [1 if row[-1] >= 16/9 else 0])\n",
    "\n",
    "sorted_distribution = wide_screen \\\n",
    "    .map(lambda row: (row[-1], 1)) \\\n",
    "    .reduceByKey(lambda x, y: x + y)\n",
    "\n",
    "if sorted_distribution.isEmpty():\n",
    "    print(\"RDD пуст. Нет данных для отображения.\")\n",
    "else:\n",
    "    print(\"Отсортированное распределение:\")\n",
    "    for item in sorted_distribution.take(10):\n",
    "        print(f\"Экран {'широкоформатный' if item[0] == 1 else 'не широкоформатный'}: {item[1]}\")\n"
   ]
  },
  {
   "cell_type": "code",
   "execution_count": 19,
   "id": "9bee4ea3-fa86-463a-9bff-d80c3c5e6b34",
   "metadata": {},
   "outputs": [],
   "source": [
    "def ddiagonal(row):\n",
    "    px_width, px_height = row[14], row[13]  # Индексы столбцов с шириной и высотой\n",
    "    inches = (px_width**2 + px_height**2)**0.5 / 100  # Переводим из пикселей в дюймы\n",
    "    return inches\n",
    "\n",
    "diagonal = combined.map(lambda row: row + [ddiagonal(row)])\n"
   ]
  },
  {
   "cell_type": "code",
   "execution_count": 21,
   "id": "591dec67-8dda-4c08-b7ac-366bb9f37bb8",
   "metadata": {},
   "outputs": [
    {
     "name": "stdout",
     "output_type": "stream",
     "text": [
      "Отсортированное распределение плотности пикселей (ppi):\n",
      "ppi: 99.99999999999999, Количество устройств: 150\n",
      "ppi: 100.0, Количество устройств: 1710\n",
      "ppi: 100.00000000000001, Количество устройств: 140\n"
     ]
    }
   ],
   "source": [
    "def ppi_func(row):\n",
    "    px_width, px_height, inches = row[14], row[13], row[-1]\n",
    "    resolution = (px_width**2 + px_height**2)**0.5\n",
    "    ppi = resolution / inches\n",
    "    return ppi\n",
    "\n",
    "ppi = diagonal.map(lambda row: row + [ppi_func(row)])\n",
    "\n",
    "sorted_ppi_distribution = ppi \\\n",
    "    .map(lambda row: (row[-1], 1)) \\\n",
    "    .reduceByKey(lambda x, y: x + y) \\\n",
    "    .sortByKey() \\\n",
    "    .collect()\n",
    "\n",
    "# Проверяем, что RDD не пуст\n",
    "if not sorted_ppi_distribution:\n",
    "    print(\"RDD пуст. Нет данных для отображения.\")\n",
    "else:\n",
    "    # Выводим первые несколько элементов\n",
    "    print(\"Отсортированное распределение плотности пикселей (ppi):\")\n",
    "    for item in sorted_ppi_distribution[:10]:\n",
    "        print(f\"ppi: {item[0]}, Количество устройств: {item[1]}\")\n",
    "\n"
   ]
  },
  {
   "cell_type": "code",
   "execution_count": 34,
   "id": "149556b1-6c12-415c-9bbf-f3a9fe9b34cf",
   "metadata": {},
   "outputs": [],
   "source": [
    "px_height_index = 12\n",
    "px_width_index = 13\n",
    "\n",
    "train2 = train \\\n",
    "    .map(lambda row: (float(row[px_height_index]), float(row[px_width_index])))\n",
    "\n",
    "test2 = test \\\n",
    "    .map(lambda row: (float(row[px_height_index]), float(row[px_width_index])))"
   ]
  },
  {
   "cell_type": "code",
   "execution_count": 35,
   "id": "78743e1e-52b3-4689-8715-46cef264cba4",
   "metadata": {},
   "outputs": [
    {
     "data": {
      "text/plain": [
       "[(226.0, 1412.0),\n",
       " (746.0, 857.0),\n",
       " (1270.0, 1366.0),\n",
       " (295.0, 1752.0),\n",
       " (749.0, 810.0)]"
      ]
     },
     "execution_count": 35,
     "metadata": {},
     "output_type": "execute_result"
    }
   ],
   "source": [
    "test2.take(5)"
   ]
  },
  {
   "cell_type": "code",
   "execution_count": 36,
   "id": "ab65796e-412e-4a32-b187-772ee71d53a8",
   "metadata": {},
   "outputs": [],
   "source": [
    "from math import sqrt\n",
    "\n",
    "def diagonal(row):\n",
    "    px_width, px_height = row\n",
    "    inches = sqrt(px_width**2 + px_height**2) / 100\n",
    "    return inches\n",
    "\n",
    "train_diagonal = train2.map(lambda row: (row, diagonal(row)))\n",
    "test_diagonal = test2.map(lambda row: (row, diagonal(row)))\n",
    "\n",
    "result = train_diagonal.join(test_diagonal)"
   ]
  },
  {
   "cell_type": "code",
   "execution_count": 37,
   "id": "f83856f7-3303-4883-a059-1bb44dbb6593",
   "metadata": {},
   "outputs": [],
   "source": [
    "result_csv = result.map(lambda x: (x[0][0], x[0][1], x[1][0], x[1][1]))\n",
    "result_csv \\\n",
    "    .map(lambda row: ';'.join(map(str, row))) \\\n",
    "    .saveAsTextFile('result.csv')"
   ]
  },
  {
   "cell_type": "code",
   "execution_count": null,
   "id": "0aca1f14-aabb-4b53-8d7c-510e657ccf03",
   "metadata": {},
   "outputs": [],
   "source": []
  }
 ],
 "metadata": {
  "kernelspec": {
   "display_name": "Python 3 (ipykernel)",
   "language": "python",
   "name": "python3"
  },
  "language_info": {
   "codemirror_mode": {
    "name": "ipython",
    "version": 3
   },
   "file_extension": ".py",
   "mimetype": "text/x-python",
   "name": "python",
   "nbconvert_exporter": "python",
   "pygments_lexer": "ipython3",
   "version": "3.11.6"
  }
 },
 "nbformat": 4,
 "nbformat_minor": 5
}
