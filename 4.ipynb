{
 "cells": [
  {
   "cell_type": "code",
   "execution_count": 45,
   "id": "11df97b1-95ee-4a59-a04b-c0cdf79b3c46",
   "metadata": {},
   "outputs": [],
   "source": [
    "from pyspark.sql import SparkSession\n",
    "from pyspark.ml.feature import StringIndexer, OneHotEncoder, VectorAssembler, MinMaxScaler\n",
    "from pyspark.ml.classification import LogisticRegression\n",
    "from pyspark.ml import Pipeline\n",
    "from pyspark.ml.evaluation import MulticlassClassificationEvaluator\n",
    "from pyspark.sql.functions import col, when"
   ]
  },
  {
   "cell_type": "code",
   "execution_count": 2,
   "id": "461c8797-cbdc-4e0a-8410-9e681565b32f",
   "metadata": {},
   "outputs": [],
   "source": [
    "spark = SparkSession.builder.appName(\"YourAppName\").getOrCreate()"
   ]
  },
  {
   "cell_type": "code",
   "execution_count": 3,
   "id": "c9f499b1-8e25-489f-a31b-dcb109db3c00",
   "metadata": {},
   "outputs": [],
   "source": [
    "application_df = spark.read.csv(\"application_record.csv\", header=True, inferSchema=True)\n",
    "credit_df = spark.read.csv(\"credit_record.csv\", header=True, inferSchema=True)"
   ]
  },
  {
   "cell_type": "code",
   "execution_count": 6,
   "id": "5881883f-a3fd-4641-8e26-f6b20b75b37a",
   "metadata": {},
   "outputs": [],
   "source": [
    "begin_month = credit_df.groupBy(\"ID\").agg({\"MONTHS_BALANCE\": \"min\"}).withColumnRenamed(\"min(MONTHS_BALANCE)\", \"begin_month\").select(\"ID\", (col(\"begin_month\") * -1).alias(\"begin_month\"))\n",
    "new_data = application_df.join(begin_month, \"ID\", \"left\")"
   ]
  },
  {
   "cell_type": "code",
   "execution_count": 8,
   "id": "3ba08331-82cc-4363-88d0-9548f74e2728",
   "metadata": {},
   "outputs": [],
   "source": [
    "credit_df = credit_df.withColumn(\"dep_value\", when((col(\"STATUS\") == \"2\") | (col(\"STATUS\") == \"3\") | (col(\"STATUS\") == \"4\") | (col(\"STATUS\") == \"5\"), \"Yes\").otherwise(None))"
   ]
  },
  {
   "cell_type": "code",
   "execution_count": 27,
   "id": "c66dac62-28a7-495c-9cf6-da407a6f4a39",
   "metadata": {},
   "outputs": [],
   "source": [
    "new_data2 = new_data.join(credit_df.select(\"ID\", \"dep_value\"), on='ID', how='left')\n",
    "new_data2 = new_data2.dropDuplicates()\n",
    "new_data2 = new_data2.orderBy(\"ID\")"
   ]
  },
  {
   "cell_type": "code",
   "execution_count": 28,
   "id": "9db8940d-4407-4063-af7b-b46845455b8c",
   "metadata": {},
   "outputs": [],
   "source": [
    "new_data2 = new_data2.withColumn(\"target\", when(col(\"dep_value\") == \"Yes\", 1).otherwise(0))"
   ]
  },
  {
   "cell_type": "code",
   "execution_count": 29,
   "id": "72d571b6-100f-4738-9ba7-7ada6ef982a6",
   "metadata": {},
   "outputs": [],
   "source": [
    "features = ['AMT_INCOME_TOTAL', 'CODE_GENDER', 'FLAG_OWN_CAR', 'FLAG_OWN_REALTY', 'CNT_CHILDREN']\n",
    "dataset = new_data2.select(features + ['target'])"
   ]
  },
  {
   "cell_type": "code",
   "execution_count": 41,
   "id": "e747b9f9-0c57-438d-889e-d5c2deec6d8f",
   "metadata": {},
   "outputs": [],
   "source": [
    "# Определение категориальных и численных признаков\n",
    "categorical_features = ['CODE_GENDER', 'FLAG_OWN_CAR', 'FLAG_OWN_REALTY']\n",
    "numeric_features = ['AMT_INCOME_TOTAL', 'CNT_CHILDREN']\n",
    "\n",
    "# Определение размера тестовой выборки\n",
    "test_size = 0.3\n",
    "\n",
    "# Создание пайплайна для преобразования категориальных признаков\n",
    "categorical_stages = []\n",
    "for feature in categorical_features:\n",
    "    string_indexer = StringIndexer(inputCol=feature, outputCol=f\"{feature}_index\")\n",
    "    encoder = OneHotEncoder(inputCol=f\"{feature}_index\", outputCol=f\"{feature}_encoded\")\n",
    "    categorical_stages += [string_indexer, encoder]\n",
    "\n",
    "# Создание пайплайна для масштабирования численных признаков\n",
    "numeric_stages = []\n",
    "for feature in numeric_features:\n",
    "    assembler = VectorAssembler(inputCols=[feature], outputCol=f\"{feature}_vector\")\n",
    "    scaler = MinMaxScaler(inputCol=f\"{feature}_vector\", outputCol=f\"{feature}_scaled\")\n",
    "    numeric_stages += [assembler, scaler]\n",
    "\n",
    "# Векторный ассемблер для объединения признаков в один вектор\n",
    "assembler = VectorAssembler(inputCols=[f\"{feature}_scaled\" for feature in numeric_features] +\n",
    "                                      [f\"{feature}_encoded\" for feature in categorical_features],\n",
    "                            outputCol=\"features\")\n",
    "\n",
    "# Создание пайплайна\n",
    "pipeline = Pipeline(stages=categorical_stages + numeric_stages + [assembler])\n",
    "\n",
    "# Применение пайплайна к данным\n",
    "transformed_data = pipeline.fit(dataset).transform(dataset)\n",
    "\n",
    "# Разделение на тренировочный и тестовый наборы\n",
    "train_data, test_data = transformed_data.randomSplit([1.0 - test_size, test_size], seed=42)\n",
    "\n",
    "# Выделение X_train, y_train, X_test, y_test\n",
    "X_train = train_data.select(\"features\")\n",
    "y_train = train_data.select(\"target\")\n",
    "\n",
    "X_test = test_data.select(\"features\")\n",
    "y_test = test_data.select(\"target\")"
   ]
  },
  {
   "cell_type": "code",
   "execution_count": 42,
   "id": "1a29e59a-2f2c-4ef0-8b8a-d1ac3e1bb0e6",
   "metadata": {},
   "outputs": [],
   "source": [
    "log_reg = LogisticRegression(featuresCol=\"features\", labelCol=\"target\")"
   ]
  },
  {
   "cell_type": "code",
   "execution_count": 43,
   "id": "d96c225c-30bb-4bd7-bc2c-55b4e5ecb1fd",
   "metadata": {},
   "outputs": [
    {
     "name": "stdout",
     "output_type": "stream",
     "text": [
      "+----------+------+--------------------+\n",
      "|prediction|target|            features|\n",
      "+----------+------+--------------------+\n",
      "|       0.0|     0|[1.33850890108419...|\n",
      "|       0.0|     0|[1.33850890108419...|\n",
      "|       0.0|     0|[1.33850890108419...|\n",
      "|       0.0|     0|[2.67701780216838...|\n",
      "|       0.0|     0|[4.68478115379467...|\n",
      "|       0.0|     0|[4.68478115379467...|\n",
      "|       0.0|     0|[4.68478115379467...|\n",
      "|       0.0|     0|[6.02329005487886...|\n",
      "|       0.0|     0|[8.03105340650515...|\n",
      "|       0.0|     0|[8.03105340650515...|\n",
      "|       0.0|     0|[8.03105340650515...|\n",
      "|       0.0|     0|(5,[0,2],[8.03105...|\n",
      "|       0.0|     0|(5,[0,2],[8.03105...|\n",
      "|       0.0|     0|(5,[0,2],[8.03105...|\n",
      "|       0.0|     0|(5,[0,2],[8.03105...|\n",
      "|       0.0|     0|(5,[0,2],[8.03105...|\n",
      "|       0.0|     0|(5,[0,2],[8.03105...|\n",
      "|       0.0|     0|[8.03105340650515...|\n",
      "|       0.0|     0|[8.03105340650515...|\n",
      "|       0.0|     0|[8.03105340650515...|\n",
      "+----------+------+--------------------+\n",
      "only showing top 20 rows\n",
      "\n"
     ]
    }
   ],
   "source": [
    "pipeline = Pipeline(stages=[log_reg])\n",
    "\n",
    "model = pipeline.fit(train_data)\n",
    "\n",
    "predictions = model.transform(test_data)\n",
    "\n",
    "predictions.select(\"prediction\", \"target\", \"features\").show()"
   ]
  },
  {
   "cell_type": "code",
   "execution_count": 46,
   "id": "23f0e88c-5847-4125-9ee3-d9a884fa54d8",
   "metadata": {},
   "outputs": [
    {
     "name": "stdout",
     "output_type": "stream",
     "text": [
      "Точность модели на трейне: 99.86%\n",
      "Точность модели на тесте: 99.86%\n"
     ]
    }
   ],
   "source": [
    "evaluator = MulticlassClassificationEvaluator(labelCol=\"target\", predictionCol=\"prediction\", metricName=\"accuracy\")\n",
    "\n",
    "train_accuracy = evaluator.evaluate(model.transform(train_data))\n",
    "print(f\"Точность модели на трейне: {train_accuracy:.2%}\")\n",
    "\n",
    "test_accuracy = evaluator.evaluate(model.transform(test_data))\n",
    "print(f\"Точность модели на тесте: {test_accuracy:.2%}\")"
   ]
  }
 ],
 "metadata": {
  "kernelspec": {
   "display_name": "Python 3 (ipykernel)",
   "language": "python",
   "name": "python3"
  },
  "language_info": {
   "codemirror_mode": {
    "name": "ipython",
    "version": 3
   },
   "file_extension": ".py",
   "mimetype": "text/x-python",
   "name": "python",
   "nbconvert_exporter": "python",
   "pygments_lexer": "ipython3",
   "version": "3.11.6"
  }
 },
 "nbformat": 4,
 "nbformat_minor": 5
}
